{
 "cells": [
  {
   "cell_type": "code",
   "execution_count": 1,
   "id": "6f70c664",
   "metadata": {},
   "outputs": [],
   "source": [
    "from sklearn.feature_extraction.text import TfidfVectorizer\n",
    "from sklearn.metrics.pairwise import cosine_similarity\n",
    "import pandas as pd\n",
    "import numpy as np\n",
    "import time\n",
    "import pickle"
   ]
  },
  {
   "cell_type": "code",
   "execution_count": 2,
   "id": "933157fd",
   "metadata": {},
   "outputs": [],
   "source": [
    "NEWS_PATH = './tf-idf/large_dev_body_imported.csv'"
   ]
  },
  {
   "cell_type": "code",
   "execution_count": 3,
   "id": "84792317",
   "metadata": {},
   "outputs": [],
   "source": [
    "class Similarity:\n",
    "    def __init__(self):\n",
    "        self.path = NEWS_PATH\n",
    "        self.df = pd.read_csv(self.path)\n",
    "        self.df['title_body'] = self.df['title'] + ' ' + self.df['body']\n",
    "        self.df = self.df[['id', 'title_body']]\n",
    "        self.calc_tf_idf()\n",
    "        self.create_news_index()\n",
    "\n",
    "    def create_news_index(self):\n",
    "        self.mark = dict()\n",
    "        for id, item in self.df['id'].iteritems():\n",
    "            self.mark[int(item[1:])] = id\n",
    "\n",
    "    def calc_tf_idf(self):\n",
    "        vectorizer = TfidfVectorizer(stop_words='english')\n",
    "        corpus = self.df['title_body']\n",
    "        corpus.fillna('', inplace=True)\n",
    "        self.tf_idf_matrix = vectorizer.fit_transform(corpus)\n",
    "\n",
    "    def similarity(self, item_i, item_j):\n",
    "        x = self.mark[item_i]\n",
    "        y = self.mark[item_j]\n",
    "        return cosine_similarity(self.tf_idf_matrix[x], self.tf_idf_matrix[y])[0][0]"
   ]
  },
  {
   "cell_type": "code",
   "execution_count": 4,
   "id": "0cc2247a",
   "metadata": {},
   "outputs": [],
   "source": [
    "sim_model = Similarity()"
   ]
  },
  {
   "cell_type": "code",
   "execution_count": 5,
   "id": "2f4b660a",
   "metadata": {},
   "outputs": [
    {
     "data": {
      "text/plain": [
       "0.9999999999999998"
      ]
     },
     "execution_count": 5,
     "metadata": {},
     "output_type": "execute_result"
    }
   ],
   "source": [
    "sim_model.similarity(1,1)"
   ]
  },
  {
   "cell_type": "code",
   "execution_count": 6,
   "id": "927e211a",
   "metadata": {},
   "outputs": [],
   "source": [
    "with open('./tf-idf/news_content_features.pickle', \"wb\") as handle:\n",
    "    pickle.dump(sim_model, handle, protocol=pickle.HIGHEST_PROTOCOL)"
   ]
  },
  {
   "cell_type": "code",
   "execution_count": 7,
   "id": "ec996e85",
   "metadata": {},
   "outputs": [],
   "source": [
    "simm_model = None\n",
    "with open('./tf-idf/news_content_features.pickle', \"rb\") as handle:\n",
    "    simm_model = pickle.load(handle)"
   ]
  },
  {
   "cell_type": "code",
   "execution_count": 8,
   "id": "a0c886de",
   "metadata": {},
   "outputs": [
    {
     "data": {
      "text/plain": [
       "0.9999999999999998"
      ]
     },
     "execution_count": 8,
     "metadata": {},
     "output_type": "execute_result"
    }
   ],
   "source": [
    "simm_model.similarity(1,1)"
   ]
  }
 ],
 "metadata": {
  "kernelspec": {
   "display_name": "Python 3 (ipykernel)",
   "language": "python",
   "name": "python3"
  },
  "language_info": {
   "codemirror_mode": {
    "name": "ipython",
    "version": 3
   },
   "file_extension": ".py",
   "mimetype": "text/x-python",
   "name": "python",
   "nbconvert_exporter": "python",
   "pygments_lexer": "ipython3",
   "version": "3.9.13"
  }
 },
 "nbformat": 4,
 "nbformat_minor": 5
}
