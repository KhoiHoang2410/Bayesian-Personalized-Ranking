{
 "cells": [
  {
   "cell_type": "code",
   "execution_count": 1,
   "metadata": {
    "id": "NJ3tzFNMD_2p"
   },
   "outputs": [],
   "source": [
    "import os\n",
    "import gzip\n",
    "import json\n",
    "import math\n",
    "import random\n",
    "import pickle\n",
    "import pprint\n",
    "import argparse\n",
    "\n",
    "import numpy as np\n",
    "import pandas as pd\n",
    "from tqdm.notebook import tqdm"
   ]
  },
  {
   "cell_type": "code",
   "execution_count": 2,
   "metadata": {
    "id": "5Z7Bc8B-EGsD"
   },
   "outputs": [],
   "source": [
    "def convert_unique_idx(df, column_name):\n",
    "    column_dict = {x: i for i, x in enumerate(df[column_name].unique())}\n",
    "    df[column_name] = df[column_name].apply(column_dict.get)\n",
    "    df[column_name] = df[column_name].astype('int')\n",
    "    assert df[column_name].min() == 0\n",
    "    assert df[column_name].max() == len(column_dict) - 1\n",
    "    return df, column_dict\n",
    "\n",
    "\n",
    "def create_user_list(df, user_size):\n",
    "    user_list = [list() for u in range(user_size)]\n",
    "    for row in df.itertuples():\n",
    "        user_list[row.user].append(row.item)\n",
    "    return user_list\n",
    "\n",
    "\n",
    "def split_train_test(df, user_size, test_size=0.2):\n",
    "    \"\"\"Split a dataset into `train_user_list` and `test_user_list`.\n",
    "    Because it needs `user_list` for splitting dataset as `time_order` is set,\n",
    "    Returning `user_list` data structure will be a good choice.\"\"\"\n",
    "    total_user_list = create_user_list(df, user_size)\n",
    "    train_user_list = [None] * len(total_user_list)\n",
    "    test_user_list = [None] * len(total_user_list)\n",
    "    for user, item_list in enumerate(total_user_list):\n",
    "        # Split item\n",
    "        test_item = item_list[math.ceil(len(item_list)*(1-test_size)):]\n",
    "        train_item = item_list[:math.ceil(len(item_list)*(1-test_size))]\n",
    "        # Register to each user list\n",
    "        test_user_list[user] = test_item\n",
    "        train_user_list[user] = train_item\n",
    "        \n",
    "    return train_user_list, test_user_list\n",
    "\n",
    "\n",
    "def create_pair(user_list):\n",
    "    pair = []\n",
    "    for user, item_list in enumerate(user_list):\n",
    "        pair.extend([(user, item) for item in item_list])\n",
    "    return pair\n"
   ]
  },
  {
   "cell_type": "code",
   "execution_count": 3,
   "metadata": {
    "id": "-2ZLHBXoFyOV"
   },
   "outputs": [],
   "source": [
    "class MIND:\n",
    "  def __init__(self, path='./large_train.csv'):\n",
    "    self.df = pd.read_csv(path, names = [\"user\", 'item']).drop_duplicates()\n",
    "\n",
    "  def load(self):\n",
    "    self.analyse()\n",
    "    return self.df\n",
    "\n",
    "  def remove_noise_user(self):\n",
    "    # remove user who read less than 25% percent and large than 75% percent\n",
    "    self.df = self.df.groupby('user').filter(lambda gr: gr['item'].nunique() >= 7 and gr['item'].nunique() <= 33)\n",
    "    self.analyse()\n",
    "\n",
    "  def remove_noise_item(self):\n",
    "    self.df = self.df.groupby('item').filter(lambda gr: gr['user'].nunique() >= 2)\n",
    "    self.analyse()\n",
    "\n",
    "  def analyse(self):\n",
    "    print('Shape', self.df.shape)\n",
    "    print('User distribution')\n",
    "    print(self.df.groupby('user')['item'].nunique().describe())\n",
    "    print('Item distribution')\n",
    "    print(self.df.groupby('item')['user'].nunique().describe())"
   ]
  },
  {
   "cell_type": "code",
   "execution_count": 4,
   "metadata": {
    "id": "z_h3aDiUR4Iy"
   },
   "outputs": [],
   "source": [
    "mind = MIND()"
   ]
  },
  {
   "cell_type": "code",
   "execution_count": 5,
   "metadata": {
    "colab": {
     "base_uri": "https://localhost:8080/"
    },
    "id": "P4Z2QSwlR88a",
    "outputId": "9dd00ca4-9e68-43a8-d69c-e80ca1f19206"
   },
   "outputs": [
    {
     "name": "stdout",
     "output_type": "stream",
     "text": [
      "Shape (6475520, 2)\n",
      "User distribution\n",
      "count    248973.000000\n",
      "mean         26.008925\n",
      "std          31.382382\n",
      "min           1.000000\n",
      "25%           7.000000\n",
      "50%          15.000000\n",
      "75%          33.000000\n",
      "max         785.000000\n",
      "Name: item, dtype: float64\n",
      "Item distribution\n",
      "count    66296.000000\n",
      "mean        97.675878\n",
      "std        557.134669\n",
      "min          1.000000\n",
      "25%          1.000000\n",
      "50%          3.000000\n",
      "75%         15.000000\n",
      "max      29340.000000\n",
      "Name: user, dtype: float64\n"
     ]
    }
   ],
   "source": [
    "his = mind.load()"
   ]
  },
  {
   "cell_type": "code",
   "execution_count": 6,
   "metadata": {
    "colab": {
     "base_uri": "https://localhost:8080/"
    },
    "id": "qBvAfdiMm5Cr",
    "outputId": "c3dfcfa4-9cde-4bb4-cbb3-bee775930b82"
   },
   "outputs": [
    {
     "name": "stdout",
     "output_type": "stream",
     "text": [
      "Shape (2173850, 2)\n",
      "User distribution\n",
      "count    131171.000000\n",
      "mean         16.572642\n",
      "std           7.449364\n",
      "min           7.000000\n",
      "25%          10.000000\n",
      "50%          15.000000\n",
      "75%          22.000000\n",
      "max          33.000000\n",
      "Name: item, dtype: float64\n",
      "Item distribution\n",
      "count    44510.000000\n",
      "mean        48.839587\n",
      "std        264.518652\n",
      "min          1.000000\n",
      "25%          1.000000\n",
      "50%          2.000000\n",
      "75%         14.000000\n",
      "max      13411.000000\n",
      "Name: user, dtype: float64\n"
     ]
    }
   ],
   "source": [
    "mind.remove_noise_user()"
   ]
  },
  {
   "cell_type": "code",
   "execution_count": 7,
   "metadata": {
    "colab": {
     "base_uri": "https://localhost:8080/"
    },
    "id": "Iwniq1TXnZ5f",
    "outputId": "f1f9c0d7-b6f9-4cfd-b9d2-c5ad64edfc9b"
   },
   "outputs": [
    {
     "data": {
      "text/plain": [
       "<AxesSubplot:>"
      ]
     },
     "execution_count": 7,
     "metadata": {},
     "output_type": "execute_result"
    },
    {
     "data": {
      "image/png": "[encoded data removed]",
      "text/plain": [
       "<Figure size 432x288 with 1 Axes>"
      ]
     },
     "metadata": {
      "needs_background": "light"
     },
     "output_type": "display_data"
    }
   ],
   "source": [
    "mind.df.groupby('user')['item'].nunique().hist()"
   ]
  },
  {
   "cell_type": "code",
   "execution_count": 8,
   "metadata": {
    "colab": {
     "base_uri": "https://localhost:8080/"
    },
    "id": "OxzKqburhDw1",
    "outputId": "50ee9acf-0b6e-4e89-9b85-da4af104f5aa"
   },
   "outputs": [
    {
     "name": "stdout",
     "output_type": "stream",
     "text": [
      "Shape (2157632, 2)\n",
      "User distribution\n",
      "count    131171.000000\n",
      "mean         16.449002\n",
      "std           7.400974\n",
      "min           2.000000\n",
      "25%          10.000000\n",
      "50%          15.000000\n",
      "75%          22.000000\n",
      "max          33.000000\n",
      "Name: item, dtype: float64\n",
      "Item distribution\n",
      "count    28292.000000\n",
      "mean        76.262972\n",
      "std        328.659253\n",
      "min          2.000000\n",
      "25%          3.000000\n",
      "50%          7.000000\n",
      "75%         39.000000\n",
      "max      13411.000000\n",
      "Name: user, dtype: float64\n"
     ]
    }
   ],
   "source": [
    "mind.remove_noise_item()"
   ]
  },
  {
   "cell_type": "code",
   "execution_count": 9,
   "metadata": {
    "colab": {
     "base_uri": "https://localhost:8080/"
    },
    "id": "kV0rjITKnYqh",
    "outputId": "fcb0c036-dc11-40d7-fbeb-d3b0754f7db4"
   },
   "outputs": [
    {
     "data": {
      "text/plain": [
       "<AxesSubplot:>"
      ]
     },
     "execution_count": 9,
     "metadata": {},
     "output_type": "execute_result"
    },
    {
     "data": {
      "image/png": "[encoded data removed]",
      "text/plain": [
       "<Figure size 432x288 with 1 Axes>"
      ]
     },
     "metadata": {
      "needs_background": "light"
     },
     "output_type": "display_data"
    }
   ],
   "source": [
    "mind.df.groupby('item')['user'].nunique().hist()"
   ]
  },
  {
   "cell_type": "code",
   "execution_count": 10,
   "metadata": {
    "id": "eSFdbzJkd9-a"
   },
   "outputs": [],
   "source": [
    "df, user_mapping = convert_unique_idx(mind.df, 'user')\n",
    "df, item_mapping = convert_unique_idx(df, 'item')"
   ]
  },
  {
   "cell_type": "code",
   "execution_count": 11,
   "metadata": {
    "id": "Ux9O79BVpeRK"
   },
   "outputs": [],
   "source": [
    "user_size = len(df['user'].unique())\n",
    "item_size = len(df['item'].unique())\n",
    "train_user_list, test_user_list = split_train_test(df, user_size, test_size=0.2)"
   ]
  },
  {
   "cell_type": "code",
   "execution_count": 12,
   "metadata": {
    "id": "qUjRVzRot7ke"
   },
   "outputs": [],
   "source": [
    "train_pair = create_pair(train_user_list)"
   ]
  },
  {
   "cell_type": "code",
   "execution_count": 13,
   "metadata": {
    "id": "V3mnNx0LuPOE"
   },
   "outputs": [],
   "source": [
    "dataset = {'user_size': user_size, 'item_size': item_size, \n",
    "               'user_mapping': user_mapping, 'item_mapping': item_mapping,\n",
    "               'train_user_list': train_user_list, 'test_user_list': test_user_list,\n",
    "               'train_pair': train_pair}"
   ]
  },
  {
   "cell_type": "code",
   "execution_count": 14,
   "metadata": {
    "id": "VRvHxrEtuRoy"
   },
   "outputs": [],
   "source": [
    "with open('./mind_large_behav_sh04166.pickle', 'wb') as f:\n",
    "    pickle.dump(dataset, f, protocol=pickle.HIGHEST_PROTOCOL)"
   ]
  },
  {
   "cell_type": "code",
   "execution_count": 15,
   "metadata": {
    "id": "vkxfFFQEusjf"
   },
   "outputs": [
    {
     "name": "stdout",
     "output_type": "stream",
     "text": [
      "cp: cannot stat '/content/mind_large_behav_sh0416.pickle': No such file or directory\r\n"
     ]
    }
   ],
   "source": [
    "!cp /content/mind_large_behav_sh0416.pickle /content/drive/MyDrive/Thesis/Data/raw_large"
   ]
  },
  {
   "cell_type": "code",
   "execution_count": null,
   "metadata": {
    "id": "_xzTw7imvC5j"
   },
   "outputs": [],
   "source": []
  }
 ],
 "metadata": {
  "colab": {
   "collapsed_sections": [],
   "name": "sh0416_BPR_Preprocess.ipynb",
   "provenance": []
  },
  "kernelspec": {
   "display_name": "Python 3 (ipykernel)",
   "language": "python",
   "name": "python3"
  },
  "language_info": {
   "codemirror_mode": {
    "name": "ipython",
    "version": 3
   },
   "file_extension": ".py",
   "mimetype": "text/x-python",
   "name": "python",
   "nbconvert_exporter": "python",
   "pygments_lexer": "ipython3",
   "version": "3.8.10"
  }
 },
 "nbformat": 4,
 "nbformat_minor": 1
}
