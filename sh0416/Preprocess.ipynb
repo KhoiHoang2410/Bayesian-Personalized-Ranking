{
 "cells": [
  {
   "cell_type": "code",
   "execution_count": 1,
   "id": "8a596bf1",
   "metadata": {},
   "outputs": [],
   "source": [
    "import pandas as pd\n",
    "from time import time"
   ]
  },
  {
   "cell_type": "code",
   "execution_count": 2,
   "id": "a635150a",
   "metadata": {},
   "outputs": [],
   "source": [
    "data_path = './behavior_large.csv'"
   ]
  },
  {
   "cell_type": "code",
   "execution_count": 3,
   "id": "418c9de4",
   "metadata": {},
   "outputs": [
    {
     "data": {
      "text/html": [
       "<div>\n",
       "<style scoped>\n",
       "    .dataframe tbody tr th:only-of-type {\n",
       "        vertical-align: middle;\n",
       "    }\n",
       "\n",
       "    .dataframe tbody tr th {\n",
       "        vertical-align: top;\n",
       "    }\n",
       "\n",
       "    .dataframe thead th {\n",
       "        text-align: right;\n",
       "    }\n",
       "</style>\n",
       "<table border=\"1\" class=\"dataframe\">\n",
       "  <thead>\n",
       "    <tr style=\"text-align: right;\">\n",
       "      <th></th>\n",
       "      <th>id</th>\n",
       "      <th>user_id</th>\n",
       "      <th>histories</th>\n",
       "      <th>impressions</th>\n",
       "      <th>created_at</th>\n",
       "      <th>updated_at</th>\n",
       "      <th>impressions_data</th>\n",
       "    </tr>\n",
       "  </thead>\n",
       "  <tbody>\n",
       "    <tr>\n",
       "      <th>0</th>\n",
       "      <td>6</td>\n",
       "      <td>U657892</td>\n",
       "      <td>{N66666,N88230,N105366,N67497}</td>\n",
       "      <td>{N64785-0,N130076-0,N30532-0,N29016-0,N30582-0...</td>\n",
       "      <td>2019-11-15 08:30:04</td>\n",
       "      <td>2022-05-22 22:10:11.895726</td>\n",
       "      <td>{}</td>\n",
       "    </tr>\n",
       "    <tr>\n",
       "      <th>1</th>\n",
       "      <td>19</td>\n",
       "      <td>U163898</td>\n",
       "      <td>{N121878,N44451,N77225,N72133,N83062,N35921,N1...</td>\n",
       "      <td>{N53018-0,N30206-1,N117802-0,N69938-0,N129416-...</td>\n",
       "      <td>2019-11-15 09:38:03</td>\n",
       "      <td>2022-05-22 22:10:11.895726</td>\n",
       "      <td>{}</td>\n",
       "    </tr>\n",
       "    <tr>\n",
       "      <th>2</th>\n",
       "      <td>7</td>\n",
       "      <td>U441763</td>\n",
       "      <td>{N68325,N31649,N28616,N84454,N64490,N104550}</td>\n",
       "      <td>{N2110-0,N123209-0,N112536-0,N118908-0,N119999...</td>\n",
       "      <td>2019-11-15 12:34:07</td>\n",
       "      <td>2022-05-22 22:10:11.895726</td>\n",
       "      <td>{}</td>\n",
       "    </tr>\n",
       "    <tr>\n",
       "      <th>3</th>\n",
       "      <td>3</td>\n",
       "      <td>U499841</td>\n",
       "      <td>{N63858,N26834,N6379,N85484,N15229,N65119,N104...</td>\n",
       "      <td>{N18190-0,N89764-0,N91737-0,N54368-0,N49978-1,...</td>\n",
       "      <td>2019-11-15 09:08:21</td>\n",
       "      <td>2022-05-22 22:10:11.895726</td>\n",
       "      <td>{}</td>\n",
       "    </tr>\n",
       "    <tr>\n",
       "      <th>4</th>\n",
       "      <td>13</td>\n",
       "      <td>U674332</td>\n",
       "      <td>{N67489,N58992,N127780,N25818,N116152,N75220,N...</td>\n",
       "      <td>{N34044-0,N91737-0,N120086-1,N117802-0,N2110-0...</td>\n",
       "      <td>2019-11-15 11:25:17</td>\n",
       "      <td>2022-05-22 22:10:11.895726</td>\n",
       "      <td>{}</td>\n",
       "    </tr>\n",
       "  </tbody>\n",
       "</table>\n",
       "</div>"
      ],
      "text/plain": [
       "   id  user_id                                          histories  \\\n",
       "0   6  U657892                     {N66666,N88230,N105366,N67497}   \n",
       "1  19  U163898  {N121878,N44451,N77225,N72133,N83062,N35921,N1...   \n",
       "2   7  U441763       {N68325,N31649,N28616,N84454,N64490,N104550}   \n",
       "3   3  U499841  {N63858,N26834,N6379,N85484,N15229,N65119,N104...   \n",
       "4  13  U674332  {N67489,N58992,N127780,N25818,N116152,N75220,N...   \n",
       "\n",
       "                                         impressions           created_at  \\\n",
       "0  {N64785-0,N130076-0,N30532-0,N29016-0,N30582-0...  2019-11-15 08:30:04   \n",
       "1  {N53018-0,N30206-1,N117802-0,N69938-0,N129416-...  2019-11-15 09:38:03   \n",
       "2  {N2110-0,N123209-0,N112536-0,N118908-0,N119999...  2019-11-15 12:34:07   \n",
       "3  {N18190-0,N89764-0,N91737-0,N54368-0,N49978-1,...  2019-11-15 09:08:21   \n",
       "4  {N34044-0,N91737-0,N120086-1,N117802-0,N2110-0...  2019-11-15 11:25:17   \n",
       "\n",
       "                   updated_at impressions_data  \n",
       "0  2022-05-22 22:10:11.895726               {}  \n",
       "1  2022-05-22 22:10:11.895726               {}  \n",
       "2  2022-05-22 22:10:11.895726               {}  \n",
       "3  2022-05-22 22:10:11.895726               {}  \n",
       "4  2022-05-22 22:10:11.895726               {}  "
      ]
     },
     "execution_count": 3,
     "metadata": {},
     "output_type": "execute_result"
    }
   ],
   "source": [
    "df = pd.read_csv(data_path)\n",
    "df.head(5)"
   ]
  },
  {
   "cell_type": "code",
   "execution_count": 4,
   "id": "4a6f0feb",
   "metadata": {},
   "outputs": [],
   "source": [
    "def train_generate(df, train_path = './large_train.csv'):\n",
    "    t_start = time()\n",
    "    print(\"Processing\", train_path)\n",
    "    with open(train_path, \"w\") as file:\n",
    "        for i, row in df.iterrows():\n",
    "            for new_id in row.histories[1:-1].split(','):\n",
    "                if row.user_id[1:].isnumeric() and new_id[1:].isnumeric():\n",
    "                    file.write(row.user_id[1:] + \",\" + new_id[1:] + \"\\n\")\n",
    "\n",
    "    t_end = time()\n",
    "    print(\"Processed in: {:.2f} Seconds\".format(t_end - t_start))"
   ]
  },
  {
   "cell_type": "code",
   "execution_count": 8,
   "id": "ba414f93",
   "metadata": {},
   "outputs": [],
   "source": [
    "def test_generate(df, test_path = './large_test.csv'):\n",
    "    t_start = time()\n",
    "    print(\"Processing\", test_path)\n",
    "\n",
    "    with open(test_path, \"w\") as file:\n",
    "        for i, row in df.iterrows():\n",
    "            impressions = row.impressions[1:-1].split(',')\n",
    "            total = []\n",
    "            reads = []\n",
    "\n",
    "            for impression in impressions:\n",
    "                new_id, is_read = impression.split('-')\n",
    "                total.append(new_id[1:])\n",
    "                if is_read == '1':\n",
    "                    reads.append(new_id[1:])\n",
    "\n",
    "            file.write(row.user_id[1:] + \",\" + ' '.join(reads) + \",\" + ' '.join(total) + \"\\n\")\n",
    "    t_end = time()\n",
    "    print(\"Processed in: {:.2f} Seconds\".format(t_end - t_start))"
   ]
  },
  {
   "cell_type": "code",
   "execution_count": 6,
   "id": "002245b1",
   "metadata": {},
   "outputs": [
    {
     "name": "stdout",
     "output_type": "stream",
     "text": [
      "Processing ./large_train.csv\n",
      "Processed in: 117.60 Seconds\n"
     ]
    }
   ],
   "source": [
    "train_generate(df)"
   ]
  },
  {
   "cell_type": "code",
   "execution_count": 9,
   "id": "46906e1d",
   "metadata": {},
   "outputs": [
    {
     "name": "stdout",
     "output_type": "stream",
     "text": [
      "Processing ./large_test.csv\n",
      "Processed in: 19.67 Seconds\n"
     ]
    }
   ],
   "source": [
    "test_generate(df)"
   ]
  },
  {
   "cell_type": "code",
   "execution_count": 11,
   "id": "de33087c",
   "metadata": {},
   "outputs": [],
   "source": [
    "test = pd.read_csv('./large_test.csv')"
   ]
  },
  {
   "cell_type": "code",
   "execution_count": null,
   "id": "184b64c0",
   "metadata": {},
   "outputs": [],
   "source": []
  }
 ],
 "metadata": {
  "kernelspec": {
   "display_name": "Python 3 (ipykernel)",
   "language": "python",
   "name": "python3"
  },
  "language_info": {
   "codemirror_mode": {
    "name": "ipython",
    "version": 3
   },
   "file_extension": ".py",
   "mimetype": "text/x-python",
   "name": "python",
   "nbconvert_exporter": "python",
   "pygments_lexer": "ipython3",
   "version": "3.8.10"
  }
 },
 "nbformat": 4,
 "nbformat_minor": 5
}
