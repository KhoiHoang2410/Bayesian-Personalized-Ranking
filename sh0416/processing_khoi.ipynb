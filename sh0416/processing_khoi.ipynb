{
 "cells": [
  {
   "cell_type": "code",
   "execution_count": 60,
   "id": "258f5b41",
   "metadata": {},
   "outputs": [],
   "source": [
    "import pandas as pd\n",
    "import numpy as np"
   ]
  },
  {
   "cell_type": "code",
   "execution_count": 61,
   "id": "80d0bbc5",
   "metadata": {},
   "outputs": [],
   "source": [
    "df = pd.read_csv('./behaviors_small_train.tsv', sep='\\t', names = ['id', 'user_id', 'created_at', 'histories', 'impression'])"
   ]
  },
  {
   "cell_type": "code",
   "execution_count": 62,
   "id": "1308392b",
   "metadata": {},
   "outputs": [],
   "source": [
    "df = df.drop(columns = ['created_at'])"
   ]
  },
  {
   "cell_type": "code",
   "execution_count": 64,
   "id": "1c4aae32",
   "metadata": {},
   "outputs": [],
   "source": [
    "df = df.replace(np.nan, '')"
   ]
  },
  {
   "cell_type": "code",
   "execution_count": 65,
   "id": "865bf635",
   "metadata": {
    "scrolled": true
   },
   "outputs": [
    {
     "data": {
      "text/html": [
       "<div>\n",
       "<style scoped>\n",
       "    .dataframe tbody tr th:only-of-type {\n",
       "        vertical-align: middle;\n",
       "    }\n",
       "\n",
       "    .dataframe tbody tr th {\n",
       "        vertical-align: top;\n",
       "    }\n",
       "\n",
       "    .dataframe thead th {\n",
       "        text-align: right;\n",
       "    }\n",
       "</style>\n",
       "<table border=\"1\" class=\"dataframe\">\n",
       "  <thead>\n",
       "    <tr style=\"text-align: right;\">\n",
       "      <th></th>\n",
       "      <th>id</th>\n",
       "      <th>user_id</th>\n",
       "      <th>histories</th>\n",
       "      <th>impression</th>\n",
       "    </tr>\n",
       "  </thead>\n",
       "  <tbody>\n",
       "    <tr>\n",
       "      <th>0</th>\n",
       "      <td>1</td>\n",
       "      <td>U13740</td>\n",
       "      <td>N55189 N42782 N34694 N45794 N18445 N63302 N104...</td>\n",
       "      <td>N55689-1 N35729-0</td>\n",
       "    </tr>\n",
       "    <tr>\n",
       "      <th>1</th>\n",
       "      <td>2</td>\n",
       "      <td>U91836</td>\n",
       "      <td>N31739 N6072 N63045 N23979 N35656 N43353 N8129...</td>\n",
       "      <td>N20678-0 N39317-0 N58114-0 N20495-0 N42977-0 N...</td>\n",
       "    </tr>\n",
       "    <tr>\n",
       "      <th>2</th>\n",
       "      <td>3</td>\n",
       "      <td>U73700</td>\n",
       "      <td>N10732 N25792 N7563 N21087 N41087 N5445 N60384...</td>\n",
       "      <td>N50014-0 N23877-0 N35389-0 N49712-0 N16844-0 N...</td>\n",
       "    </tr>\n",
       "    <tr>\n",
       "      <th>3</th>\n",
       "      <td>4</td>\n",
       "      <td>U34670</td>\n",
       "      <td>N45729 N2203 N871 N53880 N41375 N43142 N33013 ...</td>\n",
       "      <td>N35729-0 N33632-0 N49685-1 N27581-0</td>\n",
       "    </tr>\n",
       "    <tr>\n",
       "      <th>4</th>\n",
       "      <td>5</td>\n",
       "      <td>U8125</td>\n",
       "      <td>N10078 N56514 N14904 N33740</td>\n",
       "      <td>N39985-0 N36050-0 N16096-0 N8400-1 N22407-0 N6...</td>\n",
       "    </tr>\n",
       "  </tbody>\n",
       "</table>\n",
       "</div>"
      ],
      "text/plain": [
       "   id user_id                                          histories  \\\n",
       "0   1  U13740  N55189 N42782 N34694 N45794 N18445 N63302 N104...   \n",
       "1   2  U91836  N31739 N6072 N63045 N23979 N35656 N43353 N8129...   \n",
       "2   3  U73700  N10732 N25792 N7563 N21087 N41087 N5445 N60384...   \n",
       "3   4  U34670  N45729 N2203 N871 N53880 N41375 N43142 N33013 ...   \n",
       "4   5   U8125                        N10078 N56514 N14904 N33740   \n",
       "\n",
       "                                          impression  \n",
       "0                                  N55689-1 N35729-0  \n",
       "1  N20678-0 N39317-0 N58114-0 N20495-0 N42977-0 N...  \n",
       "2  N50014-0 N23877-0 N35389-0 N49712-0 N16844-0 N...  \n",
       "3                N35729-0 N33632-0 N49685-1 N27581-0  \n",
       "4  N39985-0 N36050-0 N16096-0 N8400-1 N22407-0 N6...  "
      ]
     },
     "execution_count": 65,
     "metadata": {},
     "output_type": "execute_result"
    }
   ],
   "source": [
    "df.head(5)"
   ]
  },
  {
   "cell_type": "code",
   "execution_count": 68,
   "id": "1c647cfb",
   "metadata": {},
   "outputs": [],
   "source": [
    "df1 = df.groupby('user_id').agg({ 'histories': ' '.join, 'impression': ' '.join })"
   ]
  },
  {
   "cell_type": "code",
   "execution_count": 70,
   "id": "2f776434",
   "metadata": {},
   "outputs": [
    {
     "data": {
      "text/html": [
       "<div>\n",
       "<style scoped>\n",
       "    .dataframe tbody tr th:only-of-type {\n",
       "        vertical-align: middle;\n",
       "    }\n",
       "\n",
       "    .dataframe tbody tr th {\n",
       "        vertical-align: top;\n",
       "    }\n",
       "\n",
       "    .dataframe thead th {\n",
       "        text-align: right;\n",
       "    }\n",
       "</style>\n",
       "<table border=\"1\" class=\"dataframe\">\n",
       "  <thead>\n",
       "    <tr style=\"text-align: right;\">\n",
       "      <th></th>\n",
       "      <th>histories</th>\n",
       "      <th>impression</th>\n",
       "    </tr>\n",
       "    <tr>\n",
       "      <th>user_id</th>\n",
       "      <th></th>\n",
       "      <th></th>\n",
       "    </tr>\n",
       "  </thead>\n",
       "  <tbody>\n",
       "    <tr>\n",
       "      <th>U100</th>\n",
       "      <td>N20121 N33998 N45954 N55743 N50095 N18870 N534...</td>\n",
       "      <td>N61235-0 N54489-0 N42597-0 N7800-1 N61408-0 N2...</td>\n",
       "    </tr>\n",
       "    <tr>\n",
       "      <th>U1000</th>\n",
       "      <td>N29641 N1789 N41244 N29641 N1789 N41244 N29641...</td>\n",
       "      <td>N16148-0 N43628-0 N13094-0 N32774-0 N57034-0 N...</td>\n",
       "    </tr>\n",
       "    <tr>\n",
       "      <th>U10001</th>\n",
       "      <td>N47937 N51706 N56447 N61319 N27644 N18030 N272...</td>\n",
       "      <td>N42860-0 N62750-0 N33025-0 N3167-0 N51975-0 N4...</td>\n",
       "    </tr>\n",
       "    <tr>\n",
       "      <th>U10003</th>\n",
       "      <td>N39074 N26619 N31431 N1282 N61052 N41668 N5083...</td>\n",
       "      <td>N58710-0 N39770-0 N33964-0 N64009-0 N36692-0 N...</td>\n",
       "    </tr>\n",
       "    <tr>\n",
       "      <th>U10008</th>\n",
       "      <td>N23912 N30148 N46754 N33117 N9619 N36526 N4449...</td>\n",
       "      <td>N24272-0 N8016-0 N43595-0 N732-0 N8929-0 N3567...</td>\n",
       "    </tr>\n",
       "  </tbody>\n",
       "</table>\n",
       "</div>"
      ],
      "text/plain": [
       "                                                 histories  \\\n",
       "user_id                                                      \n",
       "U100     N20121 N33998 N45954 N55743 N50095 N18870 N534...   \n",
       "U1000    N29641 N1789 N41244 N29641 N1789 N41244 N29641...   \n",
       "U10001   N47937 N51706 N56447 N61319 N27644 N18030 N272...   \n",
       "U10003   N39074 N26619 N31431 N1282 N61052 N41668 N5083...   \n",
       "U10008   N23912 N30148 N46754 N33117 N9619 N36526 N4449...   \n",
       "\n",
       "                                                impression  \n",
       "user_id                                                     \n",
       "U100     N61235-0 N54489-0 N42597-0 N7800-1 N61408-0 N2...  \n",
       "U1000    N16148-0 N43628-0 N13094-0 N32774-0 N57034-0 N...  \n",
       "U10001   N42860-0 N62750-0 N33025-0 N3167-0 N51975-0 N4...  \n",
       "U10003   N58710-0 N39770-0 N33964-0 N64009-0 N36692-0 N...  \n",
       "U10008   N24272-0 N8016-0 N43595-0 N732-0 N8929-0 N3567...  "
      ]
     },
     "execution_count": 70,
     "metadata": {},
     "output_type": "execute_result"
    }
   ],
   "source": [
    "df1.head(5)"
   ]
  },
  {
   "cell_type": "code",
   "execution_count": 81,
   "id": "fedd9d7e",
   "metadata": {},
   "outputs": [],
   "source": [
    "dct = {'user_id': [], 'news_id': []}\n",
    "\n",
    "for idx, row in df.iterrows():\n",
    "    reads = set(it[:-2] for it in row.impression.split() if it[-1] == '1')\n",
    "    his = set(row.histories.split())\n",
    "    \n",
    "    for new_id in (his - reads):\n",
    "        dct['user_id'].append(row.user_id)\n",
    "        dct['news_id'].append(new_id)"
   ]
  },
  {
   "cell_type": "code",
   "execution_count": 82,
   "id": "1c30e171",
   "metadata": {},
   "outputs": [],
   "source": [
    "tmp_df = pd.DataFrame.from_dict(dct)"
   ]
  },
  {
   "cell_type": "code",
   "execution_count": 84,
   "id": "43c7c4a9",
   "metadata": {},
   "outputs": [
    {
     "data": {
      "text/plain": [
       "count    49108.000000\n",
       "mean        18.630447\n",
       "std         23.604218\n",
       "min          1.000000\n",
       "25%          6.000000\n",
       "50%         11.000000\n",
       "75%         22.000000\n",
       "max        546.000000\n",
       "Name: news_id, dtype: float64"
      ]
     },
     "execution_count": 84,
     "metadata": {},
     "output_type": "execute_result"
    }
   ],
   "source": [
    "tmp_df.groupby(['user_id']).news_id.nunique().describe()"
   ]
  },
  {
   "cell_type": "code",
   "execution_count": null,
   "id": "b46c7339",
   "metadata": {},
   "outputs": [],
   "source": []
  }
 ],
 "metadata": {
  "kernelspec": {
   "display_name": "Python 3 (ipykernel)",
   "language": "python",
   "name": "python3"
  },
  "language_info": {
   "codemirror_mode": {
    "name": "ipython",
    "version": 3
   },
   "file_extension": ".py",
   "mimetype": "text/x-python",
   "name": "python",
   "nbconvert_exporter": "python",
   "pygments_lexer": "ipython3",
   "version": "3.9.13"
  }
 },
 "nbformat": 4,
 "nbformat_minor": 5
}
