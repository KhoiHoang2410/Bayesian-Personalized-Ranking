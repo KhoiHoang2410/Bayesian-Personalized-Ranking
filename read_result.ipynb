{
 "cells": [
  {
   "cell_type": "code",
   "execution_count": 1,
   "id": "ad40c2ff",
   "metadata": {},
   "outputs": [],
   "source": [
    "import os\n",
    "import numpy as np\n",
    "import re"
   ]
  },
  {
   "cell_type": "code",
   "execution_count": 2,
   "id": "13fda714",
   "metadata": {},
   "outputs": [],
   "source": [
    "all_folders = []\n",
    "for folder in os.walk('./result'):\n",
    "    if len(folder[0]) == 28:\n",
    "        all_folders.append(folder[0])\n",
    "all_folders = np.sort(all_folders)"
   ]
  },
  {
   "cell_type": "code",
   "execution_count": 3,
   "id": "ddf12bd7",
   "metadata": {},
   "outputs": [],
   "source": [
    "bert_with_fnr = all_folders[0:10]\n",
    "bert_with_fonly = all_folders[10:20]\n",
    "base_bpr = all_folders[20:30]"
   ]
  },
  {
   "cell_type": "code",
   "execution_count": 4,
   "id": "b16811a1",
   "metadata": {},
   "outputs": [
    {
     "data": {
      "text/plain": [
       "array(['./result/21-05-2022 11-10-06', './result/21-05-2022 11-13-04',\n",
       "       './result/21-05-2022 11-14-55', './result/21-05-2022 11-16-49',\n",
       "       './result/21-05-2022 11-18-43', './result/21-05-2022 11-20-33',\n",
       "       './result/21-05-2022 11-22-22', './result/21-05-2022 11-24-12',\n",
       "       './result/21-05-2022 11-25-58', './result/21-05-2022 11-27-47'],\n",
       "      dtype='<U28')"
      ]
     },
     "execution_count": 4,
     "metadata": {},
     "output_type": "execute_result"
    }
   ],
   "source": [
    "bert_with_fnr"
   ]
  },
  {
   "cell_type": "code",
   "execution_count": 5,
   "id": "46b6359a",
   "metadata": {},
   "outputs": [
    {
     "data": {
      "text/plain": [
       "array(['./result/21-05-2022 11-31-03', './result/21-05-2022 11-32-51',\n",
       "       './result/21-05-2022 11-34-36', './result/21-05-2022 11-36-24',\n",
       "       './result/21-05-2022 11-38-12', './result/21-05-2022 11-39-59',\n",
       "       './result/21-05-2022 11-41-43', './result/21-05-2022 11-43-31',\n",
       "       './result/21-05-2022 11-45-16', './result/21-05-2022 11-47-02'],\n",
       "      dtype='<U28')"
      ]
     },
     "execution_count": 5,
     "metadata": {},
     "output_type": "execute_result"
    }
   ],
   "source": [
    "bert_with_fonly"
   ]
  },
  {
   "cell_type": "code",
   "execution_count": 6,
   "id": "85712f74",
   "metadata": {},
   "outputs": [
    {
     "data": {
      "text/plain": [
       "array(['./result/21-05-2022 11-56-28', './result/21-05-2022 11-58-11',\n",
       "       './result/21-05-2022 11-59-51', './result/21-05-2022 12-01-31',\n",
       "       './result/21-05-2022 12-03-12', './result/21-05-2022 12-04-53',\n",
       "       './result/21-05-2022 12-06-36', './result/21-05-2022 12-08-16',\n",
       "       './result/21-05-2022 12-09-57', './result/21-05-2022 12-11-38'],\n",
       "      dtype='<U28')"
      ]
     },
     "execution_count": 6,
     "metadata": {},
     "output_type": "execute_result"
    }
   ],
   "source": [
    "base_bpr"
   ]
  },
  {
   "cell_type": "code",
   "execution_count": 7,
   "id": "8a56e953",
   "metadata": {},
   "outputs": [],
   "source": [
    "def split_to_hash_result(auc_scores):\n",
    "    return {\n",
    "        'auc_train': float(auc_scores[0][11:19]),\n",
    "        'auc_test': float(auc_scores[1][10:18])\n",
    "    }\n",
    "\n",
    "def load_result(folders):\n",
    "    result = []\n",
    "    for folder in folders:\n",
    "        print(folder)\n",
    "        with open(os.path.join(folder, 'bert.txt'), 'r') as file:\n",
    "            content = file.read().split(\"\\n\")\n",
    "            result.append(split_to_hash_result(content[9:11]))\n",
    "    return result"
   ]
  },
  {
   "cell_type": "code",
   "execution_count": 12,
   "id": "2b850a5c",
   "metadata": {},
   "outputs": [
    {
     "name": "stdout",
     "output_type": "stream",
     "text": [
      "./result/21-05-2022 11-10-06\n",
      "./result/21-05-2022 11-13-04\n",
      "./result/21-05-2022 11-14-55\n",
      "./result/21-05-2022 11-16-49\n",
      "./result/21-05-2022 11-18-43\n",
      "./result/21-05-2022 11-20-33\n",
      "./result/21-05-2022 11-22-22\n",
      "./result/21-05-2022 11-24-12\n",
      "./result/21-05-2022 11-25-58\n",
      "./result/21-05-2022 11-27-47\n",
      "\n",
      "./result/21-05-2022 11-31-03\n",
      "./result/21-05-2022 11-32-51\n",
      "./result/21-05-2022 11-34-36\n",
      "./result/21-05-2022 11-36-24\n",
      "./result/21-05-2022 11-38-12\n",
      "./result/21-05-2022 11-39-59\n",
      "./result/21-05-2022 11-41-43\n",
      "./result/21-05-2022 11-43-31\n",
      "./result/21-05-2022 11-45-16\n",
      "./result/21-05-2022 11-47-02\n",
      "\n",
      "./result/21-05-2022 11-56-28\n",
      "./result/21-05-2022 11-58-11\n",
      "./result/21-05-2022 11-59-51\n",
      "./result/21-05-2022 12-01-31\n",
      "./result/21-05-2022 12-03-12\n",
      "./result/21-05-2022 12-04-53\n",
      "./result/21-05-2022 12-06-36\n",
      "./result/21-05-2022 12-08-16\n",
      "./result/21-05-2022 12-09-57\n",
      "./result/21-05-2022 12-11-38\n"
     ]
    }
   ],
   "source": [
    "bert_with_fnr_result = load_result(bert_with_fnr)\n",
    "print()\n",
    "bert_with_fonly_result = load_result(bert_with_fonly)\n",
    "print()\n",
    "base_bpr_result = load_result(base_bpr)"
   ]
  },
  {
   "cell_type": "code",
   "execution_count": 9,
   "id": "045ba51c",
   "metadata": {},
   "outputs": [
    {
     "data": {
      "text/plain": [
       "[{'auc_train': 0.802969, 'auc_test': 0.793583},\n",
       " {'auc_train': 0.802628, 'auc_test': 0.794252},\n",
       " {'auc_train': 0.802792, 'auc_test': 0.79409},\n",
       " {'auc_train': 0.802796, 'auc_test': 0.793971},\n",
       " {'auc_train': 0.802922, 'auc_test': 0.793713},\n",
       " {'auc_train': 0.802908, 'auc_test': 0.793568},\n",
       " {'auc_train': 0.803166, 'auc_test': 0.793314},\n",
       " {'auc_train': 0.802675, 'auc_test': 0.794235},\n",
       " {'auc_train': 0.802912, 'auc_test': 0.793801},\n",
       " {'auc_train': 0.802819, 'auc_test': 0.7942}]"
      ]
     },
     "execution_count": 9,
     "metadata": {},
     "output_type": "execute_result"
    }
   ],
   "source": [
    "bert_with_fnr_result"
   ]
  },
  {
   "cell_type": "code",
   "execution_count": 10,
   "id": "1a3b64dc",
   "metadata": {},
   "outputs": [
    {
     "data": {
      "text/plain": [
       "[{'auc_train': 0.802969, 'auc_test': 0.793583},\n",
       " {'auc_train': 0.802628, 'auc_test': 0.794252},\n",
       " {'auc_train': 0.802792, 'auc_test': 0.79409},\n",
       " {'auc_train': 0.802796, 'auc_test': 0.793971},\n",
       " {'auc_train': 0.802922, 'auc_test': 0.793713},\n",
       " {'auc_train': 0.802908, 'auc_test': 0.793568},\n",
       " {'auc_train': 0.803166, 'auc_test': 0.793314},\n",
       " {'auc_train': 0.802675, 'auc_test': 0.794235},\n",
       " {'auc_train': 0.802912, 'auc_test': 0.793801},\n",
       " {'auc_train': 0.802819, 'auc_test': 0.7942}]"
      ]
     },
     "execution_count": 10,
     "metadata": {},
     "output_type": "execute_result"
    }
   ],
   "source": [
    "bert_with_fonly_result"
   ]
  },
  {
   "cell_type": "code",
   "execution_count": 11,
   "id": "7649b77d",
   "metadata": {},
   "outputs": [
    {
     "data": {
      "text/plain": [
       "[{'auc_train': 0.802969, 'auc_test': 0.793583},\n",
       " {'auc_train': 0.802628, 'auc_test': 0.794252},\n",
       " {'auc_train': 0.802792, 'auc_test': 0.79409},\n",
       " {'auc_train': 0.802796, 'auc_test': 0.793971},\n",
       " {'auc_train': 0.802922, 'auc_test': 0.793713},\n",
       " {'auc_train': 0.802908, 'auc_test': 0.793568},\n",
       " {'auc_train': 0.803166, 'auc_test': 0.793314},\n",
       " {'auc_train': 0.802675, 'auc_test': 0.794235},\n",
       " {'auc_train': 0.802912, 'auc_test': 0.793801},\n",
       " {'auc_train': 0.802819, 'auc_test': 0.7942}]"
      ]
     },
     "execution_count": 11,
     "metadata": {},
     "output_type": "execute_result"
    }
   ],
   "source": [
    "base_bpr_result"
   ]
  }
 ],
 "metadata": {
  "kernelspec": {
   "display_name": "Python 3 (ipykernel)",
   "language": "python",
   "name": "python3"
  },
  "language_info": {
   "codemirror_mode": {
    "name": "ipython",
    "version": 3
   },
   "file_extension": ".py",
   "mimetype": "text/x-python",
   "name": "python",
   "nbconvert_exporter": "python",
   "pygments_lexer": "ipython3",
   "version": "3.9.12"
  }
 },
 "nbformat": 4,
 "nbformat_minor": 5
}
